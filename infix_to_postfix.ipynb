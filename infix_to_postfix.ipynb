{
  "nbformat": 4,
  "nbformat_minor": 0,
  "metadata": {
    "colab": {
      "provenance": []
    },
    "kernelspec": {
      "name": "python3",
      "display_name": "Python 3"
    },
    "language_info": {
      "name": "python"
    }
  },
  "cells": [
    {
      "cell_type": "code",
      "execution_count": 1,
      "metadata": {
        "colab": {
          "base_uri": "https://localhost:8080/"
        },
        "id": "TiqM9K1PIdrM",
        "outputId": "6dabc1ea-3a59-48be-8a30-2f3592a15ba5"
      },
      "outputs": [
        {
          "output_type": "stream",
          "name": "stdout",
          "text": [
            "Infix Expression: (a+b)*c+d\n",
            "Postfix Expression: ab+c*d+\n"
          ]
        }
      ],
      "source": [
        "def is_operator(char):\n",
        "    return char in {'+', '-', '*', '/'}\n",
        "\n",
        "def precedence(operator):\n",
        "    if operator == '+' or operator == '-':\n",
        "        return 1\n",
        "    elif operator == '*' or operator == '/':\n",
        "        return 2\n",
        "    else:\n",
        "        return 0\n",
        "\n",
        "def infix_to_postfix(infix_expression):\n",
        "    stack = []\n",
        "    postfix_expression = []\n",
        "\n",
        "    for char in infix_expression:\n",
        "        if char.isalnum():\n",
        "            # If the character is an operand, add it to the postfix expression\n",
        "            postfix_expression.append(char)\n",
        "        elif char == '(':\n",
        "            # If the character is an open parenthesis, push it onto the stack\n",
        "            stack.append(char)\n",
        "        elif char == ')':\n",
        "            # If the character is a closing parenthesis, pop operators from the stack\n",
        "            # and append them to the postfix expression until an open parenthesis is encountered\n",
        "            while stack and stack[-1] != '(':\n",
        "                postfix_expression.append(stack.pop())\n",
        "            stack.pop()  # Pop the open parenthesis from the stack\n",
        "        elif is_operator(char):\n",
        "            # If the character is an operator, pop operators from the stack and append\n",
        "            # them to the postfix expression until the stack is empty or an operator with\n",
        "            # lower precedence is encountered\n",
        "            while stack and precedence(stack[-1]) >= precedence(char):\n",
        "                postfix_expression.append(stack.pop())\n",
        "            stack.append(char)\n",
        "\n",
        "    # Pop any remaining operators from the stack and append them to the postfix expression\n",
        "    while stack:\n",
        "        postfix_expression.append(stack.pop())\n",
        "\n",
        "    return ''.join(postfix_expression)\n",
        "\n",
        "# Example usage:\n",
        "infix_expression = \"(a+b)*c+d\"\n",
        "postfix_expression = infix_to_postfix(infix_expression)\n",
        "print(\"Infix Expression:\", infix_expression)\n",
        "print(\"Postfix Expression:\", postfix_expression)\n"
      ]
    },
    {
      "cell_type": "code",
      "source": [
        "def is_operand(char):\n",
        "    return char.isalnum()\n",
        "\n",
        "def evaluate_postfix(postfix_expression):\n",
        "    stack = []\n",
        "\n",
        "    for char in postfix_expression:\n",
        "        if is_operand(char):\n",
        "            # If the character is an operand, push it onto the stack\n",
        "            stack.append(float(char))\n",
        "        else:\n",
        "            # If the character is an operator, pop two operands from the stack,\n",
        "            # perform the operation, and push the result back onto the stack\n",
        "            operand2 = stack.pop()\n",
        "            operand1 = stack.pop()\n",
        "\n",
        "            if char == '+':\n",
        "                result = operand1 + operand2\n",
        "            elif char == '-':\n",
        "                result = operand1 - operand2\n",
        "            elif char == '*':\n",
        "                result = operand1 * operand2\n",
        "            elif char == '/':\n",
        "                result = operand1 / operand2\n",
        "\n",
        "            stack.append(result)\n",
        "\n",
        "    # The final result is on top of the stack\n",
        "    return stack.pop()\n",
        "\n",
        "# Example usage:\n",
        "postfix_expression = \"1020*5+\"\n",
        "result = evaluate_postfix(postfix_expression)\n",
        "print(\"Postfix Expression:\", postfix_expression)\n",
        "print(\"Result:\", result)\n"
      ],
      "metadata": {
        "colab": {
          "base_uri": "https://localhost:8080/"
        },
        "id": "F3EGmjvUI7-p",
        "outputId": "22abb643-2078-48bb-ccfe-a5f87c5c0ce2"
      },
      "execution_count": 2,
      "outputs": [
        {
          "output_type": "stream",
          "name": "stdout",
          "text": [
            "Postfix Expression: 1020*5+\n",
            "Result: 5.0\n"
          ]
        }
      ]
    }
  ]
}